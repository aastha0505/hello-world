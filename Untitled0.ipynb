{
  "nbformat": 4,
  "nbformat_minor": 0,
  "metadata": {
    "colab": {
      "name": "Untitled0.ipynb",
      "provenance": [],
      "collapsed_sections": [],
      "authorship_tag": "ABX9TyPUGuXnGMW64bH8CryGVOmq",
      "include_colab_link": true
    },
    "kernelspec": {
      "name": "python3",
      "display_name": "Python 3"
    }
  },
  "cells": [
    {
      "cell_type": "markdown",
      "metadata": {
        "id": "view-in-github",
        "colab_type": "text"
      },
      "source": [
        "<a href=\"https://colab.research.google.com/github/aastha0505/hello-world/blob/master/Untitled0.ipynb\" target=\"_parent\"><img src=\"https://colab.research.google.com/assets/colab-badge.svg\" alt=\"Open In Colab\"/></a>"
      ]
    },
    {
      "cell_type": "code",
      "metadata": {
        "id": "w-IxHjfVglQd",
        "colab_type": "code",
        "colab": {}
      },
      "source": [
        ""
      ],
      "execution_count": 0,
      "outputs": []
    },
    {
      "cell_type": "code",
      "metadata": {
        "id": "FryD5caJhGaD",
        "colab_type": "code",
        "colab": {
          "base_uri": "https://localhost:8080/",
          "height": 34
        },
        "outputId": "61e9bdec-b2ac-4e63-fb23-285648aff9a9"
      },
      "source": [
        "!python --version\n"
      ],
      "execution_count": 2,
      "outputs": [
        {
          "output_type": "stream",
          "text": [
            "Python 3.6.9\n"
          ],
          "name": "stdout"
        }
      ]
    },
    {
      "cell_type": "code",
      "metadata": {
        "id": "f8O1j47TiSGY",
        "colab_type": "code",
        "colab": {
          "base_uri": "https://localhost:8080/",
          "height": 34
        },
        "outputId": "80adfb64-3a8c-4257-ef81-0ece12c78aa4"
      },
      "source": [
        "mod = 11 % 2\n",
        "print(mod)"
      ],
      "execution_count": 3,
      "outputs": [
        {
          "output_type": "stream",
          "text": [
            "1\n"
          ],
          "name": "stdout"
        }
      ]
    },
    {
      "cell_type": "code",
      "metadata": {
        "id": "m_r5OJHNjLh8",
        "colab_type": "code",
        "colab": {
          "base_uri": "https://localhost:8080/",
          "height": 34
        },
        "outputId": "7546a8a4-2ea4-489a-bad3-0958ac706c3e"
      },
      "source": [
        "age = 10\n",
        "if age >= 18:\n",
        "  print(\"can vote\")\n",
        "else:\n",
        "    print(\"wait for your turn\")"
      ],
      "execution_count": 8,
      "outputs": [
        {
          "output_type": "stream",
          "text": [
            "wait for your turn\n"
          ],
          "name": "stdout"
        }
      ]
    },
    {
      "cell_type": "code",
      "metadata": {
        "id": "DVK7usQikkCB",
        "colab_type": "code",
        "colab": {
          "base_uri": "https://localhost:8080/",
          "height": 187
        },
        "outputId": "a5f9b598-bfd7-4245-e023-d916215e2e05"
      },
      "source": [
        "num = 1\n",
        "while num < 10:\n",
        "  num += 1\n",
        "  print(num)\n",
        "print(\"outside the loop\")"
      ],
      "execution_count": 11,
      "outputs": [
        {
          "output_type": "stream",
          "text": [
            "2\n",
            "3\n",
            "4\n",
            "5\n",
            "6\n",
            "7\n",
            "8\n",
            "9\n",
            "10\n",
            "outside the loop\n"
          ],
          "name": "stdout"
        }
      ]
    },
    {
      "cell_type": "code",
      "metadata": {
        "id": "MSRtFLqSxmck",
        "colab_type": "code",
        "colab": {}
      },
      "source": [
        ""
      ],
      "execution_count": 0,
      "outputs": []
    },
    {
      "cell_type": "code",
      "metadata": {
        "id": "6rx2ymmGpzvc",
        "colab_type": "code",
        "colab": {}
      },
      "source": [
        "def is_even(n):\n",
        "  return n % 2 == 0 \n",
        "\n",
        "  num = 1\n",
        "  while num < 10:\n",
        "    if is_even(num):\n",
        "      print(\"even\")\n",
        "      num += 1\n"
      ],
      "execution_count": 0,
      "outputs": []
    },
    {
      "cell_type": "code",
      "metadata": {
        "id": "TxCbhCf_vqpR",
        "colab_type": "code",
        "colab": {}
      },
      "source": [
        "LIMIT = 4000000\n",
        "a, b = 0, 1\n",
        "result = 0\n",
        "while a < LIMIT:\n",
        "  if is_even(a):\n",
        "    result += a\n",
        "    a, b = b, a + b\n",
        "\n",
        "    print(result)"
      ],
      "execution_count": 0,
      "outputs": []
    },
    {
      "cell_type": "code",
      "metadata": {
        "id": "jWfLTZBXvs5s",
        "colab_type": "code",
        "colab": {}
      },
      "source": [
        "LIMIT = 4000000\n",
        "sum ([x for x in fib(LIMIT) if x % 2 == 0])"
      ],
      "execution_count": 0,
      "outputs": []
    },
    {
      "cell_type": "code",
      "metadata": {
        "id": "b_ia1MBRv5UT",
        "colab_type": "code",
        "colab": {
          "base_uri": "https://localhost:8080/",
          "height": 34
        },
        "outputId": "bb75a8bd-7715-4dae-d0aa-75e4cf822620"
      },
      "source": [
        "college = \"jntu engineering college hyderabad\"\n",
        "college[0]\n",
        "college[1]\n",
        "college[-1]\n",
        "college[0:10:1]"
      ],
      "execution_count": 32,
      "outputs": [
        {
          "output_type": "execute_result",
          "data": {
            "text/plain": [
              "'jntu engin'"
            ]
          },
          "metadata": {
            "tags": []
          },
          "execution_count": 32
        }
      ]
    },
    {
      "cell_type": "code",
      "metadata": {
        "id": "NPYEDKTLxGsE",
        "colab_type": "code",
        "colab": {}
      },
      "source": [
        "\n",
        "a, b = 10, 20\n",
        "a,b = bbb"
      ],
      "execution_count": 0,
      "outputs": []
    }
  ]
}